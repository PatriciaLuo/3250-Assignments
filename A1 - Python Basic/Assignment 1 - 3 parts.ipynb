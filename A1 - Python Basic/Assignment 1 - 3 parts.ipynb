{
 "cells": [
  {
   "cell_type": "markdown",
   "metadata": {},
   "source": [
    "## [Part 1. Loops and Lists]"
   ]
  },
  {
   "cell_type": "markdown",
   "metadata": {},
   "source": [
    "### 1.1 - for-loop"
   ]
  },
  {
   "cell_type": "code",
   "execution_count": 1,
   "metadata": {
    "collapsed": true
   },
   "outputs": [],
   "source": [
    "#Define function (loop) to implement the for-loop.\n",
    "def loop(lst):\n",
    "    for itm in lst:\n",
    "        print('the item(s) is: ',itm)"
   ]
  },
  {
   "cell_type": "code",
   "execution_count": 2,
   "metadata": {},
   "outputs": [
    {
     "name": "stdout",
     "output_type": "stream",
     "text": [
      "the item(s) is:  apples\n",
      "the item(s) is:  oranges\n",
      "the item(s) is:  pears\n",
      "the item(s) is:  apricots\n"
     ]
    }
   ],
   "source": [
    "#Invoke (loop) for processing a string list\n",
    "list1 = ['apples', 'oranges', 'pears', 'apricots']\n",
    "loop(list1)"
   ]
  },
  {
   "cell_type": "code",
   "execution_count": 3,
   "metadata": {},
   "outputs": [
    {
     "name": "stdout",
     "output_type": "stream",
     "text": [
      "the item(s) is:  1\n",
      "the item(s) is:  2\n",
      "the item(s) is:  3\n",
      "the item(s) is:  4\n"
     ]
    }
   ],
   "source": [
    "#Invoke (loop) for processing an integer list\n",
    "list2 = [1,2,3,4]\n",
    "loop(list2)"
   ]
  },
  {
   "cell_type": "markdown",
   "metadata": {},
   "source": [
    "### 1.2 - reverse a list"
   ]
  },
  {
   "cell_type": "code",
   "execution_count": 4,
   "metadata": {},
   "outputs": [
    {
     "name": "stdout",
     "output_type": "stream",
     "text": [
      "[0, 1, 2, 3, 4, 5]\n"
     ]
    }
   ],
   "source": [
    "#generate a list including integers 0 to 5.\n",
    "mylist = []\n",
    "for i in range(0,6):\n",
    "    mylist = mylist + [i]\n",
    "print(mylist)"
   ]
  },
  {
   "cell_type": "code",
   "execution_count": 5,
   "metadata": {},
   "outputs": [
    {
     "name": "stdout",
     "output_type": "stream",
     "text": [
      "[5, 4, 3, 2, 1, 0]\n"
     ]
    }
   ],
   "source": [
    "#define function (rv) to reverse a list\n",
    "def rv(lst):\n",
    "    s = []              #initiate temporary list (s)\n",
    "    for itm in lst:     #iterate through all items in (mylist)\n",
    "        s.insert(0,itm) #for every item, insert into first place of list (s), which reversed original list.\n",
    "    return s            #return result (s)\n",
    "\n",
    "#invoke function (rv) to reverse list (mylist), and re-assign to (mylist), then print result.\n",
    "mylist = rv(mylist)\n",
    "\n",
    "print(mylist)"
   ]
  },
  {
   "cell_type": "markdown",
   "metadata": {},
   "source": [
    "## [Part 2. Dictionaries]"
   ]
  },
  {
   "cell_type": "code",
   "execution_count": 6,
   "metadata": {},
   "outputs": [
    {
     "name": "stdout",
     "output_type": "stream",
     "text": [
      "The capital of  Ontario  is  Toronto\n",
      "The capital of  Quebec  is  Quebec City\n",
      "The capital of  British Columbia  is  Victoria\n",
      "The capital of  Alberta  is  Edmonton\n",
      "The capital of  Manitoba  is  Winnipeg\n"
     ]
    }
   ],
   "source": [
    "#generate a dictionary of provices, and another of capitals.\n",
    "provinces = {\"Ontario\":\"ON\", \"Quebec\":\"QC\"}\n",
    "capitals = {\"ON\":\"Toronto\", \"QC\":\"Quebec City\"}\n",
    "\n",
    "#add three more items for each dictionary.\n",
    "provinces[\"British Columbia\"] = \"BC\" \n",
    "provinces[\"Alberta\"] = \"AB\"\n",
    "provinces[\"Manitoba\"] = \"MB\"\n",
    "\n",
    "capitals[\"BC\"] = \"Victoria\"\n",
    "capitals[\"AB\"] = \"Edmonton\"\n",
    "capitals[\"MB\"] = \"Winnipeg\"\n",
    "\n",
    "#implement a for-loop to print result.\n",
    "for pr in provinces:\n",
    "    print(\"The capital of \", pr, \" is \", capitals[provinces[pr]])"
   ]
  },
  {
   "cell_type": "markdown",
   "metadata": {},
   "source": [
    "## [Part 3. Greatest Common Divisor (GCD)]"
   ]
  },
  {
   "cell_type": "code",
   "execution_count": 7,
   "metadata": {
    "collapsed": true
   },
   "outputs": [],
   "source": [
    "## after some research, I used Euclid's algorithm, and write python code accordingly.\n",
    "## the idea is: the bigger number m could be re-writen into m = n*(m//n) + (m%n);\n",
    "## as GCD is a dividor of m and n, it must also be the dividor of m%n.  Key here is: (m >= n > m%n) always true.\n",
    "## and by keeping doing this, it will always bring the two operands smaller, until get the GCD.\n",
    "\n",
    "def my_gcd(m, n):\n",
    "    if m < n:\n",
    "        (m, n) = (n, m)          #ensure m >= n\n",
    "    \n",
    "    if m % n == 0:\n",
    "        return n                 #base case: if m divide by n, n is the GCD.\n",
    "    else:\n",
    "        return my_gcd(n, m % n)  #if not, try n and m%n, as explained on top."
   ]
  },
  {
   "cell_type": "code",
   "execution_count": 8,
   "metadata": {},
   "outputs": [
    {
     "name": "stdout",
     "output_type": "stream",
     "text": [
      "GCD of 39 and 91 is  13\n",
      "GCD of 20 and 30 is  10\n",
      "GCD of 40 and 40 is  40\n"
     ]
    }
   ],
   "source": [
    "#__main__, calling the GCD function and output result.\n",
    "\n",
    "print(\"GCD of 39 and 91 is \", my_gcd(39, 91))\n",
    "print(\"GCD of 20 and 30 is \", my_gcd(20, 30))\n",
    "print(\"GCD of 40 and 40 is \", my_gcd(40, 40))"
   ]
  },
  {
   "cell_type": "code",
   "execution_count": 9,
   "metadata": {},
   "outputs": [
    {
     "name": "stdout",
     "output_type": "stream",
     "text": [
      "verify 1: 13\n",
      "verify 2: 10\n",
      "verify 3: 40\n"
     ]
    }
   ],
   "source": [
    "#using math module to verify the result.\n",
    "\n",
    "import math\n",
    "print(\"verify 1:\", math.gcd(39,91))\n",
    "print(\"verify 2:\", math.gcd(20,30))\n",
    "print(\"verify 3:\", math.gcd(40,40))"
   ]
  }
 ],
 "metadata": {
  "kernelspec": {
   "display_name": "Python 3",
   "language": "python",
   "name": "python3"
  },
  "language_info": {
   "codemirror_mode": {
    "name": "ipython",
    "version": 3
   },
   "file_extension": ".py",
   "mimetype": "text/x-python",
   "name": "python",
   "nbconvert_exporter": "python",
   "pygments_lexer": "ipython3",
   "version": "3.6.3"
  }
 },
 "nbformat": 4,
 "nbformat_minor": 2
}
