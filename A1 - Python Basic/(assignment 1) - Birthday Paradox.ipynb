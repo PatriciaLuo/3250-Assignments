{
 "cells": [
  {
   "cell_type": "code",
   "execution_count": 6,
   "metadata": {},
   "outputs": [
    {
     "data": {
      "text/plain": [
       "[41, 219, 361]"
      ]
     },
     "execution_count": 6,
     "metadata": {},
     "output_type": "execute_result"
    }
   ],
   "source": [
    "import random\n",
    "\n",
    "def bday(n):\n",
    "    t=[]\n",
    "    i=0\n",
    "    while (i < n):\n",
    "        day = random.randint(1,365)\n",
    "        t.append(day)\n",
    "        i += 1\n",
    "    t.sort()\n",
    "    return t\n",
    "\n",
    "def has_dup(list1):\n",
    "    i = 0\n",
    "    while\n",
    "\n",
    "bday(3)"
   ]
  }
 ],
 "metadata": {
  "kernelspec": {
   "display_name": "Python 3",
   "language": "python",
   "name": "python3"
  },
  "language_info": {
   "codemirror_mode": {
    "name": "ipython",
    "version": 3
   },
   "file_extension": ".py",
   "mimetype": "text/x-python",
   "name": "python",
   "nbconvert_exporter": "python",
   "pygments_lexer": "ipython3",
   "version": "3.6.3"
  }
 },
 "nbformat": 4,
 "nbformat_minor": 2
}
